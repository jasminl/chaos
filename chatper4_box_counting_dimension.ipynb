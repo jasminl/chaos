{
  "nbformat": 4,
  "nbformat_minor": 0,
  "metadata": {
    "colab": {
      "provenance": [],
      "authorship_tag": "ABX9TyOzYZpo/94YbFghFEIOTf6I",
      "include_colab_link": true
    },
    "kernelspec": {
      "name": "python3",
      "display_name": "Python 3"
    },
    "language_info": {
      "name": "python"
    }
  },
  "cells": [
    {
      "cell_type": "markdown",
      "metadata": {
        "id": "view-in-github",
        "colab_type": "text"
      },
      "source": [
        "<a href=\"https://colab.research.google.com/github/jasminl/chaos/blob/main/chatper4_box_counting_dimension.ipynb\" target=\"_parent\"><img src=\"https://colab.research.google.com/assets/colab-badge.svg\" alt=\"Open In Colab\"/></a>"
      ]
    },
    {
      "cell_type": "markdown",
      "source": [
        "<h1>Chapter 4. Box counting dimension</h1>"
      ],
      "metadata": {
        "id": "PA4J53OVS-xD"
      }
    },
    {
      "cell_type": "code",
      "source": [
        "import matplotlib.pyplot as plt\n",
        "import numpy as np\n",
        "import random\n",
        "\n",
        "from math import pi"
      ],
      "metadata": {
        "id": "m_JSM8QHhUNM"
      },
      "execution_count": 5,
      "outputs": []
    },
    {
      "cell_type": "markdown",
      "source": [
        "<h2>Define functions</h2>"
      ],
      "metadata": {
        "id": "f6UCV9QGaO2f"
      }
    },
    {
      "cell_type": "code",
      "execution_count": 6,
      "metadata": {
        "id": "aYWPTnTKS8c0"
      },
      "outputs": [],
      "source": [
        "\n",
        "def count_box(x, y, eps):\n",
        "  \"\"\"\n",
        "  Covers the number of boxes in one possible covering of 2D points. The points\n",
        "  are covered with squares.\n",
        "\n",
        "  Arguments:\n",
        "  ----------\n",
        "  x, y Lists of x- and y- coordinates of the set for which to cover\n",
        "  eps:\n",
        "  \"\"\"\n",
        "  xmin, xmax = min(x), max(x)\n",
        "  ymin, ymax = min(y), max(y)\n",
        "\n",
        "  # Number of boxes along the x-axis\n",
        "  nx = np.ceil((xmax - xmin)/eps) + 1\n",
        "\n",
        "  box_id = set()\n",
        "  for cx, cy in zip(x, y):\n",
        "    ix = np.floor((cx - xmin)/eps)\n",
        "    iy = np.floor((cy - ymin)/eps)\n",
        "    idx = iy * nx + ix  # Convert 2D index to linear index\n",
        "    if idx not in box_id:\n",
        "      box_id.add(idx)\n",
        "\n",
        "  return len(box_id)\n",
        "\n",
        "def make_shape(num_points, point, factor):\n",
        "  \"\"\" Runs the iterated functions, starts at a random point in the unit square.\n",
        "\n",
        "  Arguments:\n",
        "  num_points: The number of iterations\n",
        "  point: A list of pairs of (x, y) coordinates for corners of the shape\n",
        "  factor: The number by which to divide the distance at each iteration\n",
        "\n",
        "  Returns:\n",
        "  x, y: Lists of x- and y- coordinates for each iteration, plot with scatter\n",
        "\n",
        "  \"\"\"\n",
        "\n",
        "  # Initial random point\n",
        "  x = [np.random.rand(1,)[0]]\n",
        "  y = [np.random.rand(1,)[0]]\n",
        "\n",
        "  for i in range(num_points):\n",
        "    idx = random.randint(0, len(point)-1)\n",
        "    dx = (point[idx][0] - x[-1])/factor\n",
        "    dy = (point[idx][1] - y[-1])/factor\n",
        "    x.append(x[-1] + dx)\n",
        "    y.append(y[-1] + dy)\n",
        "  return x, y"
      ]
    },
    {
      "cell_type": "code",
      "source": [
        "# Test on a simple case of three points: dimension should be tending to zero as\n",
        "# the box size tends to zero (as it would for any finite set of points)\n",
        "\n",
        "# Single point, dimension should be zero\n",
        "x = [0, 0, 0]\n",
        "y = [0, 1, 2]\n",
        "eps = np.linspace(0.00000001, 0.01, 10)\n",
        "num_box = [count_box(x, y, e) for e in eps]\n",
        "d = np.log2(num_box) / np.log2(1/eps)\n",
        "print(d)"
      ],
      "metadata": {
        "colab": {
          "base_uri": "https://localhost:8080/"
        },
        "id": "uk4U53tZIo8e",
        "outputId": "3e47f7ef-f9eb-4b8a-e527-18f98fe077a3"
      },
      "execution_count": 7,
      "outputs": [
        {
          "output_type": "stream",
          "name": "stdout",
          "text": [
            "[0.05964016 0.16150394 0.17982786 0.19261125 0.20284198 0.21155817\n",
            " 0.21925611 0.22621555 0.23261131 0.23856063]\n"
          ]
        }
      ]
    },
    {
      "cell_type": "code",
      "source": [
        "# Define equilateral triangle vertices\n",
        "\n",
        "a = (0, 0)\n",
        "b = (1, 0)\n",
        "c = (0.5, 0.5 * np.tan(pi/3))\n",
        "point = [a, b, c]\n",
        "\n",
        "num_points = 1000000  # Use a really large number of points to mimick the attractor set\n",
        "\n",
        "# Run iterations\n",
        "x, y = make_shape(num_points, point, 2)\n",
        "\n",
        "# Display\n",
        "plt.scatter(x, y, s=1)\n",
        "plt.show()\n"
      ],
      "metadata": {
        "colab": {
          "base_uri": "https://localhost:8080/",
          "height": 430
        },
        "id": "vS6pBuPokBfN",
        "outputId": "4308ae95-1b5f-457f-b48c-16de84abdd2e"
      },
      "execution_count": 8,
      "outputs": [
        {
          "output_type": "display_data",
          "data": {
            "text/plain": [
              "<Figure size 640x480 with 1 Axes>"
            ],
            "image/png": "[encoded data removed]"
          },
          "metadata": {}
        }
      ]
    },
    {
      "cell_type": "markdown",
      "source": [
        "<h2>Count number of boxes</h2>\n",
        "Here it is important that we don't make the covering box too small, because this eventually results in the dimension converging to 0, which is just an artifact of using a finite number of points generated from the iterative functions."
      ],
      "metadata": {
        "id": "nV34bHeWbDV-"
      }
    },
    {
      "cell_type": "code",
      "source": [
        "eps = np.linspace(0.001, 0.1, 10)\n",
        "num_box = [count_box(x, y, e) for e in eps]\n",
        "\n",
        "# Draw scatter plot, the rightmost point corresponds to when the box is smallest\n",
        "plt.scatter(np.log2(1/eps), np.log2(num_box))\n",
        "plt.show()\n",
        "\n",
        "# Fit a line\n",
        "line = np.polyfit(np.log2(1/eps), np.log2(num_box), 1)\n",
        "print(line)  # First coefficient is the slope, which should ~ the dimension\n",
        "\n",
        "# Print the approximated dimension (separate from the linefit to double-check)\n",
        "print(np.log2(num_box) / np.log2(1/eps))"
      ],
      "metadata": {
        "colab": {
          "base_uri": "https://localhost:8080/",
          "height": 482
        },
        "id": "3AxVZlr5kSJK",
        "outputId": "1c8fd007-02b3-4117-d3cf-c5726d31e5cc"
      },
      "execution_count": 14,
      "outputs": [
        {
          "output_type": "display_data",
          "data": {
            "text/plain": [
              "<Figure size 640x480 with 1 Axes>"
            ],
            "image/png": "[encoded data removed]"
          },
          "metadata": {}
        },
        {
          "output_type": "stream",
          "name": "stdout",
          "text": [
            "[1.58843173 0.46708539]\n",
            "[1.63297601 1.65989942 1.68171829 1.68877858 1.69871027 1.71193026\n",
            " 1.70368607 1.72260648 1.71917266 1.69897   ]\n"
          ]
        }
      ]
    },
    {
      "cell_type": "markdown",
      "source": [
        "<h2>Compare with actual box counting dimension</h2>\n",
        "\n",
        "In the case of the Sierpinski gasket, we know what the actual dimension is since it can be computed in closed form: ln(3) / ln(2).\n",
        "\n",
        "The number here should be roughly equivalent to the approximations computed above."
      ],
      "metadata": {
        "id": "37ODf2_SbreU"
      }
    },
    {
      "cell_type": "code",
      "source": [
        "print(np.log2(3) / np.log2(2))"
      ],
      "metadata": {
        "colab": {
          "base_uri": "https://localhost:8080/"
        },
        "id": "JYcLSqZKj0Go",
        "outputId": "1c13356d-60fe-433a-94e9-4c657d3cdaba"
      },
      "execution_count": 10,
      "outputs": [
        {
          "output_type": "stream",
          "name": "stdout",
          "text": [
            "1.584962500721156\n"
          ]
        }
      ]
    },
    {
      "cell_type": "markdown",
      "source": [
        "The slope fits at two digits with the actual dimension."
      ],
      "metadata": {
        "id": "MDdw-0hSinzK"
      }
    }
  ]
}