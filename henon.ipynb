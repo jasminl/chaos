{
  "nbformat": 4,
  "nbformat_minor": 0,
  "metadata": {
    "colab": {
      "provenance": [],
      "authorship_tag": "ABX9TyPWV3KOkwT41dpArKdFsdUU",
      "include_colab_link": true
    },
    "kernelspec": {
      "name": "python3",
      "display_name": "Python 3"
    },
    "language_info": {
      "name": "python"
    }
  },
  "cells": [
    {
      "cell_type": "markdown",
      "metadata": {
        "id": "view-in-github",
        "colab_type": "text"
      },
      "source": [
        "<a href=\"https://colab.research.google.com/github/jasminl/chaos/blob/main/henon.ipynb\" target=\"_parent\"><img src=\"https://colab.research.google.com/assets/colab-badge.svg\" alt=\"Open In Colab\"/></a>"
      ]
    },
    {
      "cell_type": "code",
      "execution_count": null,
      "metadata": {
        "id": "-9XCiPnnJfjr"
      },
      "outputs": [],
      "source": [
        "import matplotlib.pyplot as plt\n",
        "\n",
        "import numpy as np"
      ]
    },
    {
      "cell_type": "code",
      "source": [
        "def henon(x, y):\n",
        "  try:\n",
        "    a = 1.4\n",
        "    b = -0.3\n",
        "    out = (a - x**2 + b * y, x)\n",
        "    return out\n",
        "  except OverflowError as e:\n",
        "    print('Error: ', a, x, b, y)\n",
        "    return (x,y)\n",
        "\n",
        "def listdist(item0, item1):\n",
        "  return np.sqrt((item0[0] - item1[0]) * (item0[0] - item1[0]) + (item0[1] - item1[1]) * (item0[1] - item1[1]))"
      ],
      "metadata": {
        "id": "1yIQVkHoKy2f"
      },
      "execution_count": null,
      "outputs": []
    },
    {
      "cell_type": "code",
      "source": [
        "# Implement the henon map and test for stable cycle\n",
        "x = 1\n",
        "y = 1\n",
        "\n",
        "max_iter = 100\n",
        "thresh = 0.01\n",
        "overflow_thresh = 100000\n",
        "\n",
        "@np.vectorize\n",
        "def test_converge(start_x, start_y):\n",
        "  buffer = [(start_x, start_y), henon(start_x, start_y)]\n",
        "  for n in range(max_iter):\n",
        "    buffer.append(henon(buffer[-1][0], buffer[-1][1]))\n",
        "    if np.isnan(buffer[-1][0]) or np.isnan(buffer[-1][1]):\n",
        "      return 0  # Diverges to infinity\n",
        "    if np.abs(buffer[-1][0]) > overflow_thresh or np.abs(buffer[-1][1]) > overflow_thresh:\n",
        "      return 0\n",
        "    if listdist(buffer[0], buffer[-1]) < thresh:\n",
        "      return 1  # Convers to 2-cycle limit point\n",
        "    buffer.pop(0)\n",
        "  return 0  # Neither converge nor diverge, mark as not converge\n",
        "\n",
        "test_converge(x, y)"
      ],
      "metadata": {
        "colab": {
          "base_uri": "https://localhost:8080/"
        },
        "id": "0KlMXovcLDwD",
        "outputId": "78f8e03a-b3b8-495c-e4cd-6126f1d05633"
      },
      "execution_count": null,
      "outputs": [
        {
          "output_type": "execute_result",
          "data": {
            "text/plain": [
              "array(1)"
            ]
          },
          "metadata": {},
          "execution_count": 54
        }
      ]
    },
    {
      "cell_type": "code",
      "source": [
        "xrange = np.arange(-2.5, 2.5, 0.01)\n",
        "yrange = np.arange(-2.5, 2.5, 0.01)\n",
        "\n",
        "mesh = np.meshgrid(xrange, yrange)\n",
        "test = test_converge(mesh[0], mesh[1])"
      ],
      "metadata": {
        "id": "3XZSOBi_MRiP"
      },
      "execution_count": null,
      "outputs": []
    },
    {
      "cell_type": "code",
      "source": [
        "plt.imshow(test, cmap='hot', interpolation='nearest')\n",
        "plt.show()"
      ],
      "metadata": {
        "colab": {
          "base_uri": "https://localhost:8080/",
          "height": 435
        },
        "id": "EKAnPuyaWmaR",
        "outputId": "27155448-f4d9-49d4-cb76-8e9deda0dd80"
      },
      "execution_count": null,
      "outputs": [
        {
          "output_type": "display_data",
          "data": {
            "text/plain": [
              "<Figure size 640x480 with 1 Axes>"
            ],
            "image/png": "[encoded data removed]"
          },
          "metadata": {}
        }
      ]
    }
  ]
}