{
  "nbformat": 4,
  "nbformat_minor": 0,
  "metadata": {
    "colab": {
      "provenance": [],
      "authorship_tag": "ABX9TyPVOftJ5YEtN0VMJ+GZUBxV",
      "include_colab_link": true
    },
    "kernelspec": {
      "name": "python3",
      "display_name": "Python 3"
    },
    "language_info": {
      "name": "python"
    }
  },
  "cells": [
    {
      "cell_type": "markdown",
      "metadata": {
        "id": "view-in-github",
        "colab_type": "text"
      },
      "source": [
        "<a href=\"https://colab.research.google.com/github/jasminl/chaos/blob/main/chapter3_experiment3_1.ipynb\" target=\"_parent\"><img src=\"https://colab.research.google.com/assets/colab-badge.svg\" alt=\"Open In Colab\"/></a>"
      ]
    },
    {
      "cell_type": "markdown",
      "source": [
        "<h1>Chapter 3, Experiment 3.1</h1>"
      ],
      "metadata": {
        "id": "a2ZPNP3k-FwR"
      }
    },
    {
      "cell_type": "code",
      "execution_count": 7,
      "metadata": {
        "id": "diluEQfh9jZN"
      },
      "outputs": [],
      "source": [
        "import matplotlib.pyplot as plt\n",
        "import numpy as np"
      ]
    },
    {
      "cell_type": "code",
      "source": [
        "def ga(a, x):\n",
        "  return a * x * (1 - x)\n",
        "\n",
        "def dag(a, x):\n",
        "  \"\"\" The derivative of the logistic map. \"\"\"\n",
        "  return a * ( 1 - 2*x)\n",
        "\n",
        "@np.vectorize\n",
        "def lyapunov_exponent(a, func, dfunc, x, n):\n",
        "  avgd = 0\n",
        "  for i in range(n):\n",
        "    x = func(a, x)\n",
        "    avgd += np.log(np.abs(dfunc(a, x)))\n",
        "  return avgd/n  # Is it avergae of log or what\n"
      ],
      "metadata": {
        "id": "ffOA_AtW99Vg"
      },
      "execution_count": 16,
      "outputs": []
    },
    {
      "cell_type": "code",
      "source": [
        "x = np.arange(0, 1, 0.1)\n",
        "le = []\n",
        "arange = np.arange(2, 4, 0.1)\n",
        "for a in arange:\n",
        "  le.append(np.mean(lyapunov_exponent(a, ga, dag, x, 10)))"
      ],
      "metadata": {
        "colab": {
          "base_uri": "https://localhost:8080/"
        },
        "id": "8xecYotF-WTg",
        "outputId": "cb0e106a-5805-4253-86a8-351568fbdc16"
      },
      "execution_count": 30,
      "outputs": [
        {
          "output_type": "stream",
          "name": "stderr",
          "text": [
            "<ipython-input-16-abc1889705f2>:13: RuntimeWarning: divide by zero encountered in log\n",
            "  avgd += np.log(np.abs(dfunc(a, x)))\n"
          ]
        }
      ]
    },
    {
      "cell_type": "code",
      "source": [
        "plt.figure()\n",
        "plt.plot(arange, le)"
      ],
      "metadata": {
        "colab": {
          "base_uri": "https://localhost:8080/",
          "height": 447
        },
        "id": "hXrvyLqV9zsT",
        "outputId": "bcdbe711-e337-4b98-f939-82a892b4644c"
      },
      "execution_count": 32,
      "outputs": [
        {
          "output_type": "execute_result",
          "data": {
            "text/plain": [
              "[<matplotlib.lines.Line2D at 0x7b35fd50c040>]"
            ]
          },
          "metadata": {},
          "execution_count": 32
        },
        {
          "output_type": "display_data",
          "data": {
            "text/plain": [
              "<Figure size 640x480 with 1 Axes>"
            ],
            "image/png": "[encoded data removed]"
          },
          "metadata": {}
        }
      ]
    }
  ]
}